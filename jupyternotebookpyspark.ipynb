{
 "cells": [
  {
   "cell_type": "markdown",
   "id": "34ae68e4",
   "metadata": {},
   "source": [
    "# 1. Cargar Datos desde un Bucket de S3 (CSV a PySpark DataFrame)\n"
   ]
  },
  {
   "cell_type": "code",
   "execution_count": 1,
   "id": "472994cd",
   "metadata": {
    "scrolled": true
   },
   "outputs": [
    {
     "name": "stdout",
     "output_type": "stream",
     "text": [
      "Starting Spark application\n"
     ]
    },
    {
     "data": {
      "text/html": [
       "<table>\n",
       "<tr><th>ID</th><th>YARN Application ID</th><th>Kind</th><th>State</th><th>Spark UI</th><th>Driver log</th><th>User</th><th>Current session?</th></tr><tr><td>0</td><td>application_1725855336873_0001</td><td>pyspark</td><td>idle</td><td><a target=\"_blank\" href=\"http://ip-172-31-19-19.ec2.internal:20888/proxy/application_1725855336873_0001/\">Link</a></td><td><a target=\"_blank\" href=\"http://ip-172-31-24-197.ec2.internal:8042/node/containerlogs/container_1725855336873_0001_01_000001/livy\">Link</a></td><td>None</td><td>✔</td></tr></table>"
      ],
      "text/plain": [
       "<IPython.core.display.HTML object>"
      ]
     },
     "metadata": {},
     "output_type": "display_data"
    },
    {
     "data": {
      "application/vnd.jupyter.widget-view+json": {
       "model_id": "",
       "version_major": 2,
       "version_minor": 0
      },
      "text/plain": [
       "FloatProgress(value=0.0, bar_style='info', description='Progress:', layout=Layout(height='25px', width='50%'),…"
      ]
     },
     "metadata": {},
     "output_type": "display_data"
    },
    {
     "name": "stdout",
     "output_type": "stream",
     "text": [
      "SparkSession available as 'spark'.\n"
     ]
    },
    {
     "data": {
      "application/vnd.jupyter.widget-view+json": {
       "model_id": "",
       "version_major": 2,
       "version_minor": 0
      },
      "text/plain": [
       "FloatProgress(value=0.0, bar_style='info', description='Progress:', layout=Layout(height='25px', width='50%'),…"
      ]
     },
     "metadata": {},
     "output_type": "display_data"
    },
    {
     "name": "stdout",
     "output_type": "stream",
     "text": [
      "+-----------+----+------------+----+-------------------+----------------+------+----------+------------+\n",
      "|    Country|Code|Calling Code|Year|CO2 emission (Tons)|Population(2022)|  Area|% of World|Density(km2)|\n",
      "+-----------+----+------------+----+-------------------+----------------+------+----------+------------+\n",
      "|Afghanistan|  AF|          93|1750|                0.0|        41128771|652230|     0.40%|      63/km�|\n",
      "|Afghanistan|  AF|          93|1751|                0.0|        41128771|652230|     0.40%|      63/km�|\n",
      "|Afghanistan|  AF|          93|1752|                0.0|        41128771|652230|     0.40%|      63/km�|\n",
      "|Afghanistan|  AF|          93|1753|                0.0|        41128771|652230|     0.40%|      63/km�|\n",
      "|Afghanistan|  AF|          93|1754|                0.0|        41128771|652230|     0.40%|      63/km�|\n",
      "+-----------+----+------------+----+-------------------+----------------+------+----------+------------+\n",
      "only showing top 5 rows\n",
      "\n",
      "root\n",
      " |-- Country: string (nullable = true)\n",
      " |-- Code: string (nullable = true)\n",
      " |-- Calling Code: string (nullable = true)\n",
      " |-- Year: integer (nullable = true)\n",
      " |-- CO2 emission (Tons): double (nullable = true)\n",
      " |-- Population(2022): integer (nullable = true)\n",
      " |-- Area: integer (nullable = true)\n",
      " |-- % of World: string (nullable = true)\n",
      " |-- Density(km2): string (nullable = true)"
     ]
    }
   ],
   "source": [
    "from pyspark.sql import SparkSession\n",
    "\n",
    "# Crear la sesión de Spark\n",
    "spark = SparkSession.builder.appName(\"CO2 Emissions from S3\").getOrCreate()\n",
    "\n",
    "# Cargar el archivo CSV desde el bucket de S3\n",
    "df = spark.read.csv(\"s3://tduquegtrabajo1-almac/raw/country/CO2 emission by countries.csv\", header=True, inferSchema=True)\n",
    "\n",
    "# Mostrar las primeras filas\n",
    "df.show(5)\n",
    "\n",
    "# Mostrar el esquema\n",
    "df.printSchema()"
   ]
  },
  {
   "cell_type": "markdown",
   "id": "314e19b6",
   "metadata": {},
   "source": [
    "# 2. Renombrar Columnas para un Mejor Manejo"
   ]
  },
  {
   "cell_type": "code",
   "execution_count": 10,
   "id": "a528b478",
   "metadata": {},
   "outputs": [
    {
     "data": {
      "application/vnd.jupyter.widget-view+json": {
       "model_id": "",
       "version_major": 2,
       "version_minor": 0
      },
      "text/plain": [
       "FloatProgress(value=0.0, bar_style='info', description='Progress:', layout=Layout(height='25px', width='50%'),…"
      ]
     },
     "metadata": {},
     "output_type": "display_data"
    },
    {
     "name": "stdout",
     "output_type": "stream",
     "text": [
      "+------------+----+------------+----+---------------+----------------+------+----------+------------+\n",
      "|country_name|Code|Calling Code|year|co2_emission_kt|Population(2022)|  Area|% of World|Density(km2)|\n",
      "+------------+----+------------+----+---------------+----------------+------+----------+------------+\n",
      "| Afghanistan|  AF|          93|1750|            0.0|        41128771|652230|     0.40%|      63/km�|\n",
      "| Afghanistan|  AF|          93|1751|            0.0|        41128771|652230|     0.40%|      63/km�|\n",
      "| Afghanistan|  AF|          93|1752|            0.0|        41128771|652230|     0.40%|      63/km�|\n",
      "| Afghanistan|  AF|          93|1753|            0.0|        41128771|652230|     0.40%|      63/km�|\n",
      "| Afghanistan|  AF|          93|1754|            0.0|        41128771|652230|     0.40%|      63/km�|\n",
      "+------------+----+------------+----+---------------+----------------+------+----------+------------+\n",
      "only showing top 5 rows"
     ]
    }
   ],
   "source": [
    "# Renombrar las columnas\n",
    "df = df.withColumnRenamed(\"Country\", \"country_name\") \\\n",
    "       .withColumnRenamed(\"Year\", \"year\") \\\n",
    "       .withColumnRenamed(\"CO2 emission (Tons)\", \"co2_emission_kt\")\n",
    "\n",
    "# Mostrar las primeras filas con las columnas renombradas\n",
    "df.show(5)"
   ]
  },
  {
   "cell_type": "markdown",
   "id": "1fce65a0",
   "metadata": {},
   "source": [
    "# 3. Análisis Básico: Emisiones Promedio de CO2 por País"
   ]
  },
  {
   "cell_type": "code",
   "execution_count": 11,
   "id": "2e747e1c",
   "metadata": {},
   "outputs": [
    {
     "data": {
      "application/vnd.jupyter.widget-view+json": {
       "model_id": "",
       "version_major": 2,
       "version_minor": 0
      },
      "text/plain": [
       "FloatProgress(value=0.0, bar_style='info', description='Progress:', layout=Layout(height='25px', width='50%'),…"
      ]
     },
     "metadata": {},
     "output_type": "display_data"
    },
    {
     "name": "stdout",
     "output_type": "stream",
     "text": [
      "+------------+--------------------+\n",
      "|country_name|avg(co2_emission_kt)|\n",
      "+------------+--------------------+\n",
      "|      Guyana| 1.081353288191882E7|\n",
      "|      Turkey| 8.121958971734318E8|\n",
      "|Saint Helena|   25478.28782287823|\n",
      "|   Argentina| 9.712873376715868E8|\n",
      "|      Angola| 4.218294382287823E7|\n",
      "|     Albania|  3.41337476199262E7|\n",
      "|   Nicaragua|1.5111136811808119E7|\n",
      "|        Peru| 2.220289759889299E8|\n",
      "|       China|1.536124098578966...|\n",
      "|     Somalia|    3294044.63099631|\n",
      "+------------+--------------------+\n",
      "only showing top 10 rows"
     ]
    }
   ],
   "source": [
    "# Calcular las emisiones promedio de CO2 por país\n",
    "avg_co2_by_country = df.groupBy(\"country_name\").avg(\"co2_emission_kt\")\n",
    "\n",
    "# Mostrar los resultados\n",
    "avg_co2_by_country.show(10)\n"
   ]
  },
  {
   "cell_type": "markdown",
   "id": "66078aff",
   "metadata": {},
   "source": [
    "# 4. Ordenar los Países por Emisiones Promedio de CO2 (De Mayor a Menor)"
   ]
  },
  {
   "cell_type": "code",
   "execution_count": 12,
   "id": "f3814805",
   "metadata": {},
   "outputs": [
    {
     "data": {
      "application/vnd.jupyter.widget-view+json": {
       "model_id": "",
       "version_major": 2,
       "version_minor": 0
      },
      "text/plain": [
       "FloatProgress(value=0.0, bar_style='info', description='Progress:', layout=Layout(height='25px', width='50%'),…"
      ]
     },
     "metadata": {},
     "output_type": "display_data"
    },
    {
     "name": "stdout",
     "output_type": "stream",
     "text": [
      "+--------------+--------------------+\n",
      "|  country_name|avg(co2_emission_kt)|\n",
      "+--------------+--------------------+\n",
      "| United States|7.036445552702214E10|\n",
      "|United Kingdom|2.273830949637269...|\n",
      "|       Germany|1.955915446687085E10|\n",
      "|         China|1.536124098578966...|\n",
      "|        Russia|1.505807632926568...|\n",
      "|        France| 8.259214850221402E9|\n",
      "|         Japan| 7.568503080221402E9|\n",
      "|        Poland| 4.839681718859778E9|\n",
      "|        Canada| 4.632883807450185E9|\n",
      "|       Ukraine| 4.477252391553506E9|\n",
      "+--------------+--------------------+\n",
      "only showing top 10 rows"
     ]
    }
   ],
   "source": [
    "# Ordenar los países por emisiones promedio de CO2\n",
    "avg_co2_by_country_sorted = avg_co2_by_country.orderBy(\"avg(co2_emission_kt)\", ascending=False)\n",
    "\n",
    "# Mostrar los 10 primeros países con mayores emisiones promedio\n",
    "avg_co2_by_country_sorted.show(10)\n"
   ]
  },
  {
   "cell_type": "markdown",
   "id": "aea6b084",
   "metadata": {},
   "source": [
    "# 5. Filtrar Datos por Año (1990 - 2020)"
   ]
  },
  {
   "cell_type": "code",
   "execution_count": 13,
   "id": "54fa00b2",
   "metadata": {},
   "outputs": [
    {
     "data": {
      "application/vnd.jupyter.widget-view+json": {
       "model_id": "",
       "version_major": 2,
       "version_minor": 0
      },
      "text/plain": [
       "FloatProgress(value=0.0, bar_style='info', description='Progress:', layout=Layout(height='25px', width='50%'),…"
      ]
     },
     "metadata": {},
     "output_type": "display_data"
    },
    {
     "name": "stdout",
     "output_type": "stream",
     "text": [
      "+------------+----+------------+----+---------------+----------------+------+----------+------------+\n",
      "|country_name|Code|Calling Code|year|co2_emission_kt|Population(2022)|  Area|% of World|Density(km2)|\n",
      "+------------+----+------------+----+---------------+----------------+------+----------+------------+\n",
      "| Afghanistan|  AF|          93|1990|    5.9182404E7|        41128771|652230|     0.40%|      63/km�|\n",
      "| Afghanistan|  AF|          93|1991|     6.160977E7|        41128771|652230|     0.40%|      63/km�|\n",
      "| Afghanistan|  AF|          93|1992|    6.2989232E7|        41128771|652230|     0.40%|      63/km�|\n",
      "| Afghanistan|  AF|          93|1993|    6.4322287E7|        41128771|652230|     0.40%|      63/km�|\n",
      "| Afghanistan|  AF|          93|1994|    6.5603889E7|        41128771|652230|     0.40%|      63/km�|\n",
      "| Afghanistan|  AF|          93|1995|    6.6834352E7|        41128771|652230|     0.40%|      63/km�|\n",
      "| Afghanistan|  AF|          93|1996|    6.7999272E7|        41128771|652230|     0.40%|      63/km�|\n",
      "| Afghanistan|  AF|          93|1997|    6.9083399E7|        41128771|652230|     0.40%|      63/km�|\n",
      "| Afghanistan|  AF|          93|1998|    7.0112556E7|        41128771|652230|     0.40%|      63/km�|\n",
      "| Afghanistan|  AF|          93|1999|    7.0922068E7|        41128771|652230|     0.40%|      63/km�|\n",
      "+------------+----+------------+----+---------------+----------------+------+----------+------------+\n",
      "only showing top 10 rows"
     ]
    }
   ],
   "source": [
    "# Filtrar los datos por un rango de años\n",
    "df_filtered = df.filter((df.year >= 1990) & (df.year <= 2020))\n",
    "\n",
    "# Mostrar los datos filtrados\n",
    "df_filtered.show(10)\n"
   ]
  },
  {
   "cell_type": "markdown",
   "id": "0e0380d8",
   "metadata": {},
   "source": [
    "# 6. Análisis de Emisiones de CO2 en el Año 2020"
   ]
  },
  {
   "cell_type": "code",
   "execution_count": 14,
   "id": "2168eff9",
   "metadata": {},
   "outputs": [
    {
     "data": {
      "application/vnd.jupyter.widget-view+json": {
       "model_id": "",
       "version_major": 2,
       "version_minor": 0
      },
      "text/plain": [
       "FloatProgress(value=0.0, bar_style='info', description='Progress:', layout=Layout(height='25px', width='50%'),…"
      ]
     },
     "metadata": {},
     "output_type": "display_data"
    },
    {
     "name": "stdout",
     "output_type": "stream",
     "text": [
      "+-------------------+----+------------+----+---------------+----------------+-------+----------+------------+\n",
      "|       country_name|Code|Calling Code|year|co2_emission_kt|Population(2022)|   Area|% of World|Density(km2)|\n",
      "+-------------------+----+------------+----+---------------+----------------+-------+----------+------------+\n",
      "|        Afghanistan|  AF|          93|2020|   1.92848747E8|        41128771| 652230|     0.40%|      63/km�|\n",
      "|            Albania|  AL|         355|2020|   2.85502507E8|         2842321|  28748|     0.00%|      99/km�|\n",
      "|            Algeria|  DZ|         213|2020|  4.587131635E9|        44903225|2381741|     1.60%|      19/km�|\n",
      "|            Andorra|  AD|         376|2020|    1.5070878E7|           79824|    468|     0.00%|     171/km�|\n",
      "|             Angola|  AO|         244|2020|   6.82260326E8|        35588987|1246700|     0.80%|      29/km�|\n",
      "|           Anguilla|  AI|       1-264|2020|      3421269.0|            null|     91|     0.00%|        null|\n",
      "|         Antarctica|  AQ|         672|2020|       153888.0|            null|   null|      null|        null|\n",
      "|Antigua and Barbuda|  AG|       1-268|2020|    2.1526783E7|           93763|    442|     0.00%|     212/km�|\n",
      "|          Argentina|  AR|          54|2020|  8.431213004E9|        45510318|2780400|     1.80%|      16/km�|\n",
      "|            Armenia|  AM|         374|2020|   3.83336064E8|         2780469|  29743|     0.00%|      93/km�|\n",
      "+-------------------+----+------------+----+---------------+----------------+-------+----------+------------+\n",
      "only showing top 10 rows"
     ]
    }
   ],
   "source": [
    "# Filtrar los datos para el año 2020\n",
    "df_2020 = df.filter(df.year == 2020)\n",
    "\n",
    "# Mostrar las primeras filas del año 2020\n",
    "df_2020.show(10)\n"
   ]
  },
  {
   "cell_type": "markdown",
   "id": "cc66da7f",
   "metadata": {},
   "source": [
    "# 7. Encontrar el País con las Mayores Emisiones en 2020"
   ]
  },
  {
   "cell_type": "code",
   "execution_count": 15,
   "id": "d972eccb",
   "metadata": {},
   "outputs": [
    {
     "data": {
      "application/vnd.jupyter.widget-view+json": {
       "model_id": "",
       "version_major": 2,
       "version_minor": 0
      },
      "text/plain": [
       "FloatProgress(value=0.0, bar_style='info', description='Progress:', layout=Layout(height='25px', width='50%'),…"
      ]
     },
     "metadata": {},
     "output_type": "display_data"
    },
    {
     "name": "stdout",
     "output_type": "stream",
     "text": [
      "+-------------+----+------------+----+---------------+----------------+-------+----------+------------+\n",
      "| country_name|Code|Calling Code|year|co2_emission_kt|Population(2022)|   Area|% of World|Density(km2)|\n",
      "+-------------+----+------------+----+---------------+----------------+-------+----------+------------+\n",
      "|United States|  US|           1|2020|        4.17E11|       338289857|9372610|     6.10%|      36/km�|\n",
      "+-------------+----+------------+----+---------------+----------------+-------+----------+------------+\n",
      "only showing top 1 row"
     ]
    }
   ],
   "source": [
    "\n",
    "df_2020.orderBy(\"co2_emission_kt\", ascending=False).show(1)\n"
   ]
  },
  {
   "cell_type": "markdown",
   "id": "f4382937",
   "metadata": {},
   "source": [
    "# 8. Agregar una Columna para Emisiones de CO2 en Millones de Toneladas"
   ]
  },
  {
   "cell_type": "code",
   "execution_count": 18,
   "id": "f3567bb5",
   "metadata": {},
   "outputs": [
    {
     "data": {
      "application/vnd.jupyter.widget-view+json": {
       "model_id": "",
       "version_major": 2,
       "version_minor": 0
      },
      "text/plain": [
       "FloatProgress(value=0.0, bar_style='info', description='Progress:', layout=Layout(height='25px', width='50%'),…"
      ]
     },
     "metadata": {},
     "output_type": "display_data"
    },
    {
     "name": "stdout",
     "output_type": "stream",
     "text": [
      "+------------+----+------------+----+---------------+----------------+------+----------+------------+---------------+\n",
      "|country_name|Code|Calling Code|year|co2_emission_kt|Population(2022)|  Area|% of World|Density(km2)|co2_emission_mt|\n",
      "+------------+----+------------+----+---------------+----------------+------+----------+------------+---------------+\n",
      "| Afghanistan|  AF|          93|1750|            0.0|        41128771|652230|     0.40%|      63/km�|            0.0|\n",
      "| Afghanistan|  AF|          93|1751|            0.0|        41128771|652230|     0.40%|      63/km�|            0.0|\n",
      "| Afghanistan|  AF|          93|1752|            0.0|        41128771|652230|     0.40%|      63/km�|            0.0|\n",
      "| Afghanistan|  AF|          93|1753|            0.0|        41128771|652230|     0.40%|      63/km�|            0.0|\n",
      "| Afghanistan|  AF|          93|1754|            0.0|        41128771|652230|     0.40%|      63/km�|            0.0|\n",
      "+------------+----+------------+----+---------------+----------------+------+----------+------------+---------------+\n",
      "only showing top 5 rows"
     ]
    }
   ],
   "source": [
    "# Crear una nueva columna que convierta las emisiones de kilotoneladas a millones de toneladas\n",
    "df = df.withColumn(\"co2_emission_mt\", df.co2_emission_kt / 1000)\n",
    "\n",
    "# Mostrar las primeras filas con la nueva columna\n",
    "df.show(5)\n"
   ]
  },
  {
   "cell_type": "markdown",
   "id": "d431d3c5",
   "metadata": {},
   "source": [
    "# 9. Calcular el Total de Emisiones de CO2 por País Entre 1990 y 2020"
   ]
  },
  {
   "cell_type": "code",
   "execution_count": 17,
   "id": "634c8f32",
   "metadata": {},
   "outputs": [
    {
     "data": {
      "application/vnd.jupyter.widget-view+json": {
       "model_id": "",
       "version_major": 2,
       "version_minor": 0
      },
      "text/plain": [
       "FloatProgress(value=0.0, bar_style='info', description='Progress:', layout=Layout(height='25px', width='50%'),…"
      ]
     },
     "metadata": {},
     "output_type": "display_data"
    },
    {
     "name": "stdout",
     "output_type": "stream",
     "text": [
      "+------------+--------------------+\n",
      "|country_name|sum(co2_emission_mt)|\n",
      "+------------+--------------------+\n",
      "|      Guyana|         2195725.491|\n",
      "|      Turkey|     1.83696123205E8|\n",
      "|Saint Helena|             6615.16|\n",
      "|   Argentina|1.8167600238599998E8|\n",
      "|      Angola|1.0040569527999999E7|\n",
      "|     Albania|         6855301.317|\n",
      "|   Nicaragua|  3342924.3349999995|\n",
      "|        Peru|3.9960106194999985E7|\n",
      "|       China|    3.571127691988E9|\n",
      "|     Somalia|   738506.1030000001|\n",
      "+------------+--------------------+\n",
      "only showing top 10 rows"
     ]
    }
   ],
   "source": [
    "# Filtrar los datos entre 1990 y 2020\n",
    "df_filtered = df.filter((df.year >= 1990) & (df.year <= 2020))\n",
    "\n",
    "# Calcular el total de emisiones por país en ese rango de años\n",
    "total_co2_by_country = df_filtered.groupBy(\"country_name\").sum(\"co2_emission_mt\")\n",
    "\n",
    "# Mostrar el total de emisiones de CO2 por país\n",
    "total_co2_by_country.show(10)\n"
   ]
  },
  {
   "cell_type": "markdown",
   "id": "80293b30",
   "metadata": {},
   "source": [
    "# 10. Guardar los Resultados en S3 en Formato Parquet"
   ]
  },
  {
   "cell_type": "code",
   "execution_count": 19,
   "id": "91e09c7c",
   "metadata": {},
   "outputs": [
    {
     "data": {
      "application/vnd.jupyter.widget-view+json": {
       "model_id": "",
       "version_major": 2,
       "version_minor": 0
      },
      "text/plain": [
       "FloatProgress(value=0.0, bar_style='info', description='Progress:', layout=Layout(height='25px', width='50%'),…"
      ]
     },
     "metadata": {},
     "output_type": "display_data"
    }
   ],
   "source": [
    "# Guardar los resultados en formato Parquet en el bucket de S3\n",
    "total_co2_by_country.write.mode(\"overwrite\").parquet(\"s3://tduquegtrabajo1-almac/trusted/country/co2_emissions_parquet\")\n",
    "\n",
    "\n"
   ]
  }
 ],
 "metadata": {
  "kernelspec": {
   "display_name": "PySpark",
   "language": "python",
   "name": "pysparkkernel"
  },
  "language_info": {
   "codemirror_mode": {
    "name": "python",
    "version": 3
   },
   "file_extension": ".py",
   "mimetype": "text/x-python",
   "name": "pyspark",
   "pygments_lexer": "python3"
  }
 },
 "nbformat": 4,
 "nbformat_minor": 5
}
