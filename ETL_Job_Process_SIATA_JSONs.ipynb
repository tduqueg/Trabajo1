{
 "cells": [
  {
   "cell_type": "markdown",
   "metadata": {},
   "source": [
    "Este es el código que se utilizó para hacer el ETL Job, a pesar de que no fue posible utilizarlo por un problema con los permisos del rol IAM LabRole por lo que se decidió hacerlo localmente con el código de Python usando PySpark que se encuenta en Proccess_SIATA.ipynb"
   ]
  },
  {
   "cell_type": "code",
   "execution_count": null,
   "metadata": {
    "vscode": {
     "languageId": "plaintext"
    }
   },
   "outputs": [],
   "source": [
    "import sys\n",
    "from awsglue.transforms import *\n",
    "from awsglue.utils import getResolvedOptions\n",
    "from pyspark.context import SparkContext\n",
    "from awsglue.context import GlueContext\n",
    "from awsglue.job import Job\n",
    "\n",
    "## @params: [JOB_NAME]\n",
    "args = getResolvedOptions(sys.argv, ['JOB_NAME'])\n",
    "\n",
    "sc = SparkContext()\n",
    "glueContext = GlueContext(sc)\n",
    "spark = glueContext.spark_session\n",
    "job = Job(glueContext)\n",
    "job.init(args['JOB_NAME'], args)\n",
    "\n",
    "\n",
    "\n",
    "\n",
    "\n",
    "input_path = \"s3://tu-bucket/siata/raw/\"\n",
    "output_path = \"s3://tu-bucket/siata/trusted/\"\n",
    "\n",
    "\n",
    "json_files = [\"co\", \"no\", \"so2\", \"no2\", \"ozono\", \"pm1\", \"pm10\", \"pm25\"]\n",
    "\n",
    "for file_name in json_files:\n",
    "\n",
    "    df = spark.read.json(f\"{input_path}{file_name}/\")\n",
    "\n",
    "\n",
    "    df = df.withColumn(\"datos\", explode(df[\"datos\"]))\n",
    "\n",
    "\n",
    "    df = df.select(\n",
    "        \"latitud\",\n",
    "        \"codigoSerial\",\n",
    "        \"datos.variableConsulta\",\n",
    "        \"datos.fecha\",\n",
    "        \"datos.calidad\",\n",
    "        \"datos.valor\",\n",
    "        \"nombre\",\n",
    "        \"nombreCorto\",\n",
    "        \"longitud\"\n",
    "    )\n",
    "\n",
    "\n",
    "    df.write.mode(\"overwrite\").parquet(f\"{output_path}{file_name}/\")\n",
    "        \n",
    "job.commit()"
   ]
  }
 ],
 "metadata": {
  "language_info": {
   "name": "python"
  }
 },
 "nbformat": 4,
 "nbformat_minor": 2
}
